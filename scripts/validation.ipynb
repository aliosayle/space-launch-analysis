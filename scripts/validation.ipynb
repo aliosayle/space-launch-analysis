{
 "cells": [
  {
   "cell_type": "code",
   "execution_count": 13,
   "metadata": {},
   "outputs": [
    {
     "name": "stdout",
     "output_type": "stream",
     "text": [
      "Table: dim_countries, Shape: (249, 2)\n",
      "Table: dim_locations, Shape: (137, 5)\n",
      "Table: dim_organisations, Shape: (56, 3)\n",
      "Table: fact_conflicts, Shape: (2686, 6)\n",
      "Table: fact_launches, Shape: (4324, 11)\n"
     ]
    }
   ],
   "source": [
    "import pandas as pd\n",
    "from sqlalchemy import create_engine, text\n",
    "\n",
    "# Connect to the database\n",
    "engine = create_engine('mysql+pymysql://root:@localhost/space_launch_db')\n",
    "\n",
    "# Query to get all table names in the current database\n",
    "query_tables = \"\"\"\n",
    "SELECT TABLE_NAME \n",
    "FROM information_schema.TABLES \n",
    "WHERE TABLE_SCHEMA = DATABASE()\n",
    "\"\"\"\n",
    "\n",
    "# Open a connection and execute the query to get table names\n",
    "with engine.connect() as connection:\n",
    "    result_tables = connection.execute(text(query_tables)).fetchall()\n",
    "\n",
    "# Extract table names from the result\n",
    "table_names = [row[0] for row in result_tables]\n",
    "\n",
    "# Dictionary to hold the DataFrames for each table\n",
    "dfs = {}\n",
    "\n",
    "# Loop through each table, load it into a DataFrame, and store it in the dictionary\n",
    "for table in table_names:\n",
    "    query = f\"SELECT * FROM {table}\"\n",
    "    dfs[table] = pd.read_sql(query, engine)\n",
    "\n",
    "# Now all tables are loaded into DataFrames and stored in the `dfs` dictionary\n",
    "# Example: To access a specific table's DataFrame, you can use dfs['table_name']\n",
    "# Print all table names and their corresponding DataFrame shapes\n",
    "for table, df in dfs.items():\n",
    "    print(f\"Table: {table}, Shape: {df.shape}\")\n"
   ]
  },
  {
   "cell_type": "code",
   "execution_count": 14,
   "metadata": {},
   "outputs": [],
   "source": [
    "df_launches = pd.read_csv('../datasets/weather_data.csv')\n",
    "df_wars = pd.read_csv('../datasets/UcdpPrioConflict_v24_1.csv')"
   ]
  },
  {
   "cell_type": "code",
   "execution_count": 15,
   "metadata": {},
   "outputs": [
    {
     "name": "stdout",
     "output_type": "stream",
     "text": [
      "launch data validated\n"
     ]
    }
   ],
   "source": [
    "if df_launches.shape[0] == dfs['fact_launches'].shape[0]:\n",
    "    print('launch data validated')\n",
    "else:\n",
    "    print('mismatch between original data and loaded data size, validation could not be completed')"
   ]
  },
  {
   "cell_type": "code",
   "execution_count": 16,
   "metadata": {},
   "outputs": [
    {
     "name": "stdout",
     "output_type": "stream",
     "text": [
      "conflict data validated\n"
     ]
    }
   ],
   "source": [
    "if df_wars.shape[0] == dfs['fact_conflicts'].shape[0]:\n",
    "    print('conflict data validated')\n",
    "else:\n",
    "    print('mismatch between original data and loaded data size, validation could not be completed')"
   ]
  }
 ],
 "metadata": {
  "kernelspec": {
   "display_name": "base",
   "language": "python",
   "name": "python3"
  },
  "language_info": {
   "codemirror_mode": {
    "name": "ipython",
    "version": 3
   },
   "file_extension": ".py",
   "mimetype": "text/x-python",
   "name": "python",
   "nbconvert_exporter": "python",
   "pygments_lexer": "ipython3",
   "version": "3.12.2"
  }
 },
 "nbformat": 4,
 "nbformat_minor": 2
}
